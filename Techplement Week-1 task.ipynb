{
 "cells": [
  {
   "cell_type": "code",
   "execution_count": 1,
   "id": "a74063de",
   "metadata": {},
   "outputs": [
    {
     "name": "stdout",
     "output_type": "stream",
     "text": [
      "Welcome to the Random Password Generator!\n",
      "Enter the length of the password: 12\n",
      "Include uppercase letters? (yes/no): yes\n",
      "Include lowercase letters? (yes/no): yes\n",
      "Include digits? (yes/no): yes\n",
      "Include special characters? (yes/no): yes\n",
      "Generated Password: B`ln4yNZ4^$o\n"
     ]
    }
   ],
   "source": [
    "import random\n",
    "import string\n",
    "\n",
    "def generate_password(length=12, uppercase=True, lowercase=True, digits=True, special_chars=True):\n",
    "    \"\"\"Generate a random password based on specified criteria.\"\"\"\n",
    "    # Define character sets based on criteria\n",
    "    characters = []\n",
    "    if uppercase:\n",
    "        characters.extend(string.ascii_uppercase)\n",
    "    if lowercase:\n",
    "        characters.extend(string.ascii_lowercase)\n",
    "    if digits:\n",
    "        characters.extend(string.digits)\n",
    "    if special_chars:\n",
    "        characters.extend(string.punctuation)\n",
    "\n",
    "    # Ensure at least one character type is selected\n",
    "    if not (uppercase or lowercase or digits or special_chars):\n",
    "        raise ValueError(\"At least one character type (uppercase, lowercase, digits, special_chars) must be True.\")\n",
    "\n",
    "    # Generate password\n",
    "    password = ''.join(random.choice(characters) for _ in range(length))\n",
    "    return password\n",
    "\n",
    "def main():\n",
    "    print(\"Welcome to the Random Password Generator!\")\n",
    "    try:\n",
    "        # Get user inputs\n",
    "        length = int(input(\"Enter the length of the password: \"))\n",
    "        uppercase = input(\"Include uppercase letters? (yes/no): \").lower() == 'yes'\n",
    "        lowercase = input(\"Include lowercase letters? (yes/no): \").lower() == 'yes'\n",
    "        digits = input(\"Include digits? (yes/no): \").lower() == 'yes'\n",
    "        special_chars = input(\"Include special characters? (yes/no): \").lower() == 'yes'\n",
    "\n",
    "        # Generate password\n",
    "        password = generate_password(length, uppercase, lowercase, digits, special_chars)\n",
    "\n",
    "        # Print the generated password\n",
    "        print(f\"Generated Password: {password}\")\n",
    "\n",
    "    except ValueError as ve:\n",
    "        print(f\"Error: {ve}\")\n",
    "    except Exception as e:\n",
    "        print(f\"An unexpected error occurred: {e}\")\n",
    "\n",
    "if __name__ == \"__main__\":\n",
    "    main()\n"
   ]
  },
  {
   "cell_type": "code",
   "execution_count": null,
   "id": "59c14848",
   "metadata": {},
   "outputs": [],
   "source": []
  }
 ],
 "metadata": {
  "kernelspec": {
   "display_name": "Python 3 (ipykernel)",
   "language": "python",
   "name": "python3"
  },
  "language_info": {
   "codemirror_mode": {
    "name": "ipython",
    "version": 3
   },
   "file_extension": ".py",
   "mimetype": "text/x-python",
   "name": "python",
   "nbconvert_exporter": "python",
   "pygments_lexer": "ipython3",
   "version": "3.9.7"
  }
 },
 "nbformat": 4,
 "nbformat_minor": 5
}
